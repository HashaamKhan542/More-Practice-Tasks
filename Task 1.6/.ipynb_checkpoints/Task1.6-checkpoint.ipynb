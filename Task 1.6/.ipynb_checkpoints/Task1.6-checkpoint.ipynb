{
 "cells": [
  {
   "cell_type": "code",
   "execution_count": 1,
   "id": "cfd27129-7fd0-4bf5-9db1-b38302b2c3bf",
   "metadata": {},
   "outputs": [],
   "source": [
    "# %% [markdown]\n",
    "# # SIT731 Task 1.6D – SQL vs Pandas Comparison\n",
    "#\n",
    "# **Name**: Hashaam Khan  \n",
    "# **Student ID**: 223871946 \n",
    "# **Email**: s223871946@deakin.edu.au \n",
    "# **Course**: SIT731 – Machine Learning  \n",
    "#\n",
    "# This notebook compares SQL queries and their equivalent pandas operations using the NYC Flights dataset.\n",
    "# The results of both approaches are validated for consistency using `pd.testing.assert_frame_equal`.\n"
   ]
  },
  {
   "cell_type": "code",
   "execution_count": 2,
   "id": "acf6de29-a81b-44ca-b1d4-6cc3de914d6d",
   "metadata": {},
   "outputs": [
    {
     "name": "stdout",
     "output_type": "stream",
     "text": [
      "✅ Connected to SQLite\n"
     ]
    }
   ],
   "source": [
    "# %%\n",
    "import pandas as pd\n",
    "import sqlite3\n",
    "import gzip\n",
    "\n",
    "# Connect to SQLite DB\n",
    "conn = sqlite3.connect(\"nycflights.db\")\n",
    "print(\"✅ Connected to SQLite\")\n"
   ]
  },
  {
   "cell_type": "code",
   "execution_count": 4,
   "id": "6c149405-97ba-462b-a25f-f8b6eafa20be",
   "metadata": {},
   "outputs": [
    {
     "name": "stdout",
     "output_type": "stream",
     "text": [
      "✅ Loaded flights: 336776 rows\n",
      "✅ Loaded airlines: 16 rows\n",
      "✅ Loaded airports: 1458 rows\n",
      "✅ Loaded planes: 3322 rows\n",
      "✅ Loaded weather: 26130 rows\n"
     ]
    }
   ],
   "source": [
    "# %%\n",
    "def load_to_sql(csv_path, table_name):\n",
    "    df = pd.read_csv(csv_path, comment=\"#\")\n",
    "    df.to_sql(table_name, conn, if_exists='replace', index=False)\n",
    "    print(f\"✅ Loaded {table_name}: {len(df)} rows\")\n",
    "\n",
    "# Load all 5 tables\n",
    "load_to_sql(\"nycflights13_flights.csv\", \"flights\")\n",
    "load_to_sql(\"nycflights13_airlines.csv\", \"airlines\")\n",
    "load_to_sql(\"nycflights13_airports.csv\", \"airports\")\n",
    "load_to_sql(\"nycflights13_planes.csv\", \"planes\")\n",
    "load_to_sql(\"nycflights13_weather.csv\", \"weather\")\n"
   ]
  },
  {
   "cell_type": "code",
   "execution_count": 10,
   "id": "e4315f79-5f6f-4e46-8263-f602eaaba2b9",
   "metadata": {},
   "outputs": [
    {
     "name": "stdout",
     "output_type": "stream",
     "text": [
      "✅ Loaded planes table: 3322 rows\n",
      "✅ Task 1 passed: DISTINCT engine types match in SQL and pandas.\n"
     ]
    }
   ],
   "source": [
    "# %% \n",
    "# Load the planes table into a pandas DataFrame\n",
    "df_planes = pd.read_sql_query(\"SELECT * FROM planes\", conn)\n",
    "print(f\"✅ Loaded planes table: {df_planes.shape[0]} rows\")\n",
    "\n",
    "# Task 1: SELECT DISTINCT engine FROM planes\n",
    "# This task retrieves all unique engine types from the `planes` table and validates that both SQL and pandas return the same distinct values.\n",
    "\n",
    "# SQL version\n",
    "sql_1 = \"SELECT DISTINCT engine FROM planes\"\n",
    "result_sql_1 = pd.read_sql_query(sql_1, conn).sort_values(by=\"engine\", ignore_index=True)\n",
    "\n",
    "# Pandas version\n",
    "result_pd_1 = pd.DataFrame({\"engine\": df_planes[\"engine\"].dropna().unique()})\n",
    "result_pd_1 = result_pd_1.sort_values(by=\"engine\", ignore_index=True)\n",
    "\n",
    "# Validation\n",
    "pd.testing.assert_frame_equal(result_sql_1, result_pd_1)\n",
    "print(\"✅ Task 1 passed: DISTINCT engine types match in SQL and pandas.\")\n"
   ]
  },
  {
   "cell_type": "code",
   "execution_count": 11,
   "id": "53af2793-ec04-4eb7-ad2e-1e6b9b848d60",
   "metadata": {},
   "outputs": [
    {
     "name": "stdout",
     "output_type": "stream",
     "text": [
      "✅ Task 2 passed: DISTINCT (type, engine) combinations match.\n"
     ]
    }
   ],
   "source": [
    "# %%\n",
    "# Task 2: SELECT DISTINCT type, engine FROM planes\n",
    "# This task retrieves all unique (type, engine) combinations from the planes table.\n",
    "\n",
    "# SQL version\n",
    "sql_2 = \"SELECT DISTINCT type, engine FROM planes\"\n",
    "result_sql_2 = pd.read_sql_query(sql_2, conn).sort_values(by=[\"type\", \"engine\"], ignore_index=True)\n",
    "\n",
    "# Pandas version\n",
    "result_pd_2 = df_planes[[\"type\", \"engine\"]].drop_duplicates().sort_values(by=[\"type\", \"engine\"], ignore_index=True)\n",
    "\n",
    "# Validation\n",
    "pd.testing.assert_frame_equal(result_sql_2, result_pd_2)\n",
    "print(\"✅ Task 2 passed: DISTINCT (type, engine) combinations match.\")\n"
   ]
  },
  {
   "cell_type": "code",
   "execution_count": 13,
   "id": "7908707c-6ff4-448f-963d-ee4b5e9d6b8c",
   "metadata": {
    "scrolled": true
   },
   "outputs": [
    {
     "name": "stdout",
     "output_type": "stream",
     "text": [
      "✅ Task 3 passed: Grouped counts by engine match.\n"
     ]
    }
   ],
   "source": [
    "# %%\n",
    "# Task 3: SELECT COUNT(*), engine FROM planes GROUP BY engine\n",
    "# This task groups records in the planes table by engine type and counts how many entries each group has.\n",
    "\n",
    "# SQL version\n",
    "sql_3 = \"SELECT COUNT(*) AS count, engine FROM planes GROUP BY engine\"\n",
    "result_sql_3 = pd.read_sql_query(sql_3, conn).sort_values(by=\"engine\", ignore_index=True)\n",
    "\n",
    "# Pandas version\n",
    "result_pd_3 = (\n",
    "    df_planes.groupby(\"engine\")\n",
    "    .size()\n",
    "    .reset_index(name=\"count\")\n",
    "    .sort_values(by=\"engine\", ignore_index=True)\n",
    ")\n",
    "\n",
    "# Reorder columns to match SQL\n",
    "result_pd_3 = result_pd_3[[\"count\", \"engine\"]]\n",
    "\n",
    "# Validation\n",
    "pd.testing.assert_frame_equal(result_sql_3, result_pd_3)\n",
    "print(\"✅ Task 3 passed: Grouped counts by engine match.\")\n"
   ]
  },
  {
   "cell_type": "code",
   "execution_count": 14,
   "id": "33d83947-6cb7-4361-ac11-887e2507a300",
   "metadata": {},
   "outputs": [
    {
     "name": "stdout",
     "output_type": "stream",
     "text": [
      "✅ Task 4 passed: Grouped counts by (engine, type) match.\n"
     ]
    }
   ],
   "source": [
    "# %%\n",
    "# Task 4: SELECT COUNT(*), engine, type FROM planes GROUP BY engine, type\n",
    "# This task groups the planes table by both engine and type and counts how many records fall under each pair.\n",
    "\n",
    "# SQL version\n",
    "sql_4 = \"\"\"\n",
    "SELECT COUNT(*) AS count, engine, type\n",
    "FROM planes\n",
    "GROUP BY engine, type\n",
    "\"\"\"\n",
    "result_sql_4 = pd.read_sql_query(sql_4, conn).sort_values(by=[\"engine\", \"type\"], ignore_index=True)\n",
    "\n",
    "# Pandas version\n",
    "result_pd_4 = (\n",
    "    df_planes.groupby([\"engine\", \"type\"])\n",
    "    .size()\n",
    "    .reset_index(name=\"count\")\n",
    "    .sort_values(by=[\"engine\", \"type\"], ignore_index=True)\n",
    ")\n",
    "\n",
    "# Reorder columns to match SQL\n",
    "result_pd_4 = result_pd_4[[\"count\", \"engine\", \"type\"]]\n",
    "\n",
    "# Validation\n",
    "pd.testing.assert_frame_equal(result_sql_4, result_pd_4)\n",
    "print(\"✅ Task 4 passed: Grouped counts by (engine, type) match.\")\n"
   ]
  },
  {
   "cell_type": "code",
   "execution_count": 16,
   "id": "96928501-816e-4b65-8725-c1b295bd27a1",
   "metadata": {},
   "outputs": [
    {
     "name": "stdout",
     "output_type": "stream",
     "text": [
      "✅ Task 5 passed: Aggregated year statistics match by engine and manufacturer.\n"
     ]
    }
   ],
   "source": [
    "# %%\n",
    "# Task 5: SELECT MIN(year), AVG(year), MAX(year), engine, manufacturer FROM planes GROUP BY engine, manufacturer\n",
    "# This task computes min, average, and max of 'year' for each (engine, manufacturer) combination.\n",
    "\n",
    "# SQL version\n",
    "sql_5 = \"\"\"\n",
    "SELECT MIN(year) AS min_year,\n",
    "       AVG(year) AS avg_year,\n",
    "       MAX(year) AS max_year,\n",
    "       engine,\n",
    "       manufacturer\n",
    "FROM planes\n",
    "GROUP BY engine, manufacturer\n",
    "\"\"\"\n",
    "result_sql_5 = pd.read_sql_query(sql_5, conn).sort_values(by=[\"engine\", \"manufacturer\"], ignore_index=True)\n",
    "\n",
    "# Pandas version\n",
    "grouped = df_planes.groupby([\"engine\", \"manufacturer\"])[\"year\"]\n",
    "result_pd_5 = (\n",
    "    grouped.agg(min_year=\"min\", avg_year=\"mean\", max_year=\"max\")\n",
    "    .reset_index()\n",
    "    .sort_values(by=[\"engine\", \"manufacturer\"], ignore_index=True)\n",
    ")\n",
    "\n",
    "# Reorder columns\n",
    "result_pd_5 = result_pd_5[[\"min_year\", \"avg_year\", \"max_year\", \"engine\", \"manufacturer\"]]\n",
    "\n",
    "# Validation\n",
    "pd.testing.assert_frame_equal(result_sql_5, result_pd_5)\n",
    "print(\"✅ Task 5 passed: Aggregated year statistics match by engine and manufacturer.\")\n"
   ]
  },
  {
   "cell_type": "code",
   "execution_count": 17,
   "id": "e28b9efc-2c98-4dfe-8e42-598e08a30bc5",
   "metadata": {},
   "outputs": [
    {
     "name": "stdout",
     "output_type": "stream",
     "text": [
      "✅ Task 6 passed: Rows with non-null speed match.\n"
     ]
    }
   ],
   "source": [
    "# %%\n",
    "# Task 6: SELECT * FROM planes WHERE speed IS NOT NULL\n",
    "# This task filters all rows from the planes table where the speed column is not null.\n",
    "\n",
    "# SQL version\n",
    "sql_6 = \"SELECT * FROM planes WHERE speed IS NOT NULL\"\n",
    "result_sql_6 = pd.read_sql_query(sql_6, conn).sort_values(by=\"tailnum\", ignore_index=True)\n",
    "\n",
    "# Pandas version\n",
    "result_pd_6 = df_planes[df_planes[\"speed\"].notna()].copy()\n",
    "result_pd_6 = result_pd_6.sort_values(by=\"tailnum\", ignore_index=True)\n",
    "\n",
    "# Validation\n",
    "pd.testing.assert_frame_equal(result_sql_6, result_pd_6)\n",
    "print(\"✅ Task 6 passed: Rows with non-null speed match.\")\n"
   ]
  },
  {
   "cell_type": "code",
   "execution_count": 18,
   "id": "1659e5c9-4fd9-4344-ad44-cdb61f63346a",
   "metadata": {},
   "outputs": [
    {
     "name": "stdout",
     "output_type": "stream",
     "text": [
      "✅ Task 7 passed: Matching tail numbers filtered by seat range and year.\n"
     ]
    }
   ],
   "source": [
    "# %%\n",
    "# Task 7: SELECT tailnum FROM planes WHERE seats BETWEEN 150 AND 210 AND year >= 2011\n",
    "# This task filters planes with seat count between 150 and 210, and year >= 2011, then selects only tailnum.\n",
    "\n",
    "# SQL version\n",
    "sql_7 = \"\"\"\n",
    "SELECT tailnum\n",
    "FROM planes\n",
    "WHERE seats BETWEEN 150 AND 210 AND year >= 2011\n",
    "\"\"\"\n",
    "result_sql_7 = pd.read_sql_query(sql_7, conn).sort_values(by=\"tailnum\", ignore_index=True)\n",
    "\n",
    "# Pandas version\n",
    "filtered = df_planes[(df_planes[\"seats\"].between(150, 210)) & (df_planes[\"year\"] >= 2011)]\n",
    "result_pd_7 = filtered[[\"tailnum\"]].sort_values(by=\"tailnum\", ignore_index=True)\n",
    "\n",
    "# Validation\n",
    "pd.testing.assert_frame_equal(result_sql_7, result_pd_7)\n",
    "print(\"✅ Task 7 passed: Matching tail numbers filtered by seat range and year.\")\n"
   ]
  },
  {
   "cell_type": "code",
   "execution_count": 19,
   "id": "a324fd98-1ba9-4d16-b65c-6fe73f7f9e71",
   "metadata": {},
   "outputs": [
    {
     "name": "stdout",
     "output_type": "stream",
     "text": [
      "✅ Task 8 passed: Large-capacity Boeing, Airbus, Embraer aircraft matched.\n"
     ]
    }
   ],
   "source": [
    "# %%\n",
    "# Task 8: SELECT tailnum, manufacturer, seats FROM planes\n",
    "# WHERE manufacturer IN (\"BOEING\", \"AIRBUS\", \"EMBRAER\") AND seats > 390\n",
    "\n",
    "# SQL version\n",
    "sql_8 = \"\"\"\n",
    "SELECT tailnum, manufacturer, seats\n",
    "FROM planes\n",
    "WHERE manufacturer IN (\"BOEING\", \"AIRBUS\", \"EMBRAER\") AND seats > 390\n",
    "\"\"\"\n",
    "result_sql_8 = pd.read_sql_query(sql_8, conn).sort_values(by=\"tailnum\", ignore_index=True)\n",
    "\n",
    "# Pandas version\n",
    "filtered = df_planes[\n",
    "    (df_planes[\"manufacturer\"].isin([\"BOEING\", \"AIRBUS\", \"EMBRAER\"])) &\n",
    "    (df_planes[\"seats\"] > 390)\n",
    "]\n",
    "result_pd_8 = filtered[[\"tailnum\", \"manufacturer\", \"seats\"]].sort_values(by=\"tailnum\", ignore_index=True)\n",
    "\n",
    "# Validation\n",
    "pd.testing.assert_frame_equal(result_sql_8, result_pd_8)\n",
    "print(\"✅ Task 8 passed: Large-capacity Boeing, Airbus, Embraer aircraft matched.\")\n"
   ]
  },
  {
   "cell_type": "code",
   "execution_count": 20,
   "id": "f7e277e6-2c6f-49f9-962c-3c9cabbedfd3",
   "metadata": {},
   "outputs": [
    {
     "name": "stdout",
     "output_type": "stream",
     "text": [
      "✅ Task 9 passed: DISTINCT (year, seats) ordered by year ASC, seats DESC match.\n"
     ]
    }
   ],
   "source": [
    "# %%\n",
    "# Task 9: SELECT DISTINCT year, seats FROM planes WHERE year >= 2012 ORDER BY year ASC, seats DESC\n",
    "\n",
    "# SQL version\n",
    "sql_9 = \"\"\"\n",
    "SELECT DISTINCT year, seats\n",
    "FROM planes\n",
    "WHERE year >= 2012\n",
    "ORDER BY year ASC, seats DESC\n",
    "\"\"\"\n",
    "result_sql_9 = pd.read_sql_query(sql_9, conn)\n",
    "\n",
    "# Pandas version\n",
    "filtered = df_planes[df_planes[\"year\"] >= 2012]\n",
    "result_pd_9 = (\n",
    "    filtered[[\"year\", \"seats\"]]\n",
    "    .drop_duplicates()\n",
    "    .sort_values(by=[\"year\", \"seats\"], ascending=[True, False])\n",
    "    .reset_index(drop=True)\n",
    ")\n",
    "\n",
    "# Validation\n",
    "pd.testing.assert_frame_equal(result_sql_9, result_pd_9)\n",
    "print(\"✅ Task 9 passed: DISTINCT (year, seats) ordered by year ASC, seats DESC match.\")\n"
   ]
  },
  {
   "cell_type": "code",
   "execution_count": 21,
   "id": "cf380e31-29d1-4926-b6e4-6794b0a9da7a",
   "metadata": {},
   "outputs": [
    {
     "name": "stdout",
     "output_type": "stream",
     "text": [
      "✅ Task 10 passed: DISTINCT (year, seats) ordered by seats DESC, year ASC match.\n"
     ]
    }
   ],
   "source": [
    "# %%\n",
    "# Task 10: SELECT DISTINCT year, seats FROM planes WHERE year >= 2012 ORDER BY seats DESC, year ASC\n",
    "\n",
    "# SQL version\n",
    "sql_10 = \"\"\"\n",
    "SELECT DISTINCT year, seats\n",
    "FROM planes\n",
    "WHERE year >= 2012\n",
    "ORDER BY seats DESC, year ASC\n",
    "\"\"\"\n",
    "result_sql_10 = pd.read_sql_query(sql_10, conn)\n",
    "\n",
    "# Pandas version\n",
    "filtered = df_planes[df_planes[\"year\"] >= 2012]\n",
    "result_pd_10 = (\n",
    "    filtered[[\"year\", \"seats\"]]\n",
    "    .drop_duplicates()\n",
    "    .sort_values(by=[\"seats\", \"year\"], ascending=[False, True])\n",
    "    .reset_index(drop=True)\n",
    ")\n",
    "\n",
    "# Validation\n",
    "pd.testing.assert_frame_equal(result_sql_10, result_pd_10)\n",
    "print(\"✅ Task 10 passed: DISTINCT (year, seats) ordered by seats DESC, year ASC match.\")\n"
   ]
  },
  {
   "cell_type": "code",
   "execution_count": 22,
   "id": "11c55ec7-b9ba-4e90-9970-5166cbd1fcf1",
   "metadata": {},
   "outputs": [
    {
     "name": "stdout",
     "output_type": "stream",
     "text": [
      "✅ Task 11 passed: Manufacturer counts with seats > 200 match.\n"
     ]
    }
   ],
   "source": [
    "# %%\n",
    "# Task 11: SELECT manufacturer, COUNT(*) FROM planes WHERE seats > 200 GROUP BY manufacturer\n",
    "\n",
    "# SQL version\n",
    "sql_11 = \"\"\"\n",
    "SELECT manufacturer, COUNT(*) AS count\n",
    "FROM planes\n",
    "WHERE seats > 200\n",
    "GROUP BY manufacturer\n",
    "\"\"\"\n",
    "result_sql_11 = pd.read_sql_query(sql_11, conn).sort_values(by=\"manufacturer\", ignore_index=True)\n",
    "\n",
    "# Pandas version\n",
    "filtered = df_planes[df_planes[\"seats\"] > 200]\n",
    "result_pd_11 = (\n",
    "    filtered.groupby(\"manufacturer\")\n",
    "    .size()\n",
    "    .reset_index(name=\"count\")\n",
    "    .sort_values(by=\"manufacturer\", ignore_index=True)\n",
    ")\n",
    "\n",
    "# Validation\n",
    "pd.testing.assert_frame_equal(result_sql_11, result_pd_11)\n",
    "print(\"✅ Task 11 passed: Manufacturer counts with seats > 200 match.\")\n"
   ]
  },
  {
   "cell_type": "code",
   "execution_count": 26,
   "id": "7a1e7383-38d7-4e2a-b609-b194109ef727",
   "metadata": {},
   "outputs": [
    {
     "name": "stdout",
     "output_type": "stream",
     "text": [
      "✅ Task 12 passed: Manufacturers with more than 10 planes match.\n"
     ]
    }
   ],
   "source": [
    "# %%\n",
    "# Task 12: SELECT manufacturer, COUNT(*) FROM planes GROUP BY manufacturer HAVING COUNT(*) > 10\n",
    "\n",
    "# SQL version\n",
    "sql_12 = \"\"\"\n",
    "SELECT manufacturer, COUNT(*) AS count\n",
    "FROM planes\n",
    "GROUP BY manufacturer\n",
    "HAVING COUNT(*) > 10\n",
    "\"\"\"\n",
    "result_sql_12 = pd.read_sql_query(sql_12, conn).sort_values(by=\"manufacturer\", ignore_index=True)\n",
    "\n",
    "# Pandas version\n",
    "result_pd_12 = (\n",
    "    df_planes.groupby(\"manufacturer\")\n",
    "    .size()\n",
    "    .reset_index(name=\"count\")\n",
    ")\n",
    "result_pd_12 = result_pd_12[result_pd_12[\"count\"] > 10].sort_values(by=\"manufacturer\", ignore_index=True)\n",
    "\n",
    "# Validation\n",
    "pd.testing.assert_frame_equal(result_sql_12, result_pd_12)\n",
    "print(\"✅ Task 12 passed: Manufacturers with more than 10 planes match.\")\n",
    "\n"
   ]
  },
  {
   "cell_type": "code",
   "execution_count": 27,
   "id": "5a41f8b2-e438-4d99-8e3c-e6ded94fb334",
   "metadata": {},
   "outputs": [
    {
     "name": "stdout",
     "output_type": "stream",
     "text": [
      "✅ Task 13 passed: Manufacturers with large plane counts > 10 match.\n"
     ]
    }
   ],
   "source": [
    "# %%\n",
    "# Task 13: SELECT manufacturer, COUNT(*) FROM planes WHERE seats > 200 GROUP BY manufacturer HAVING COUNT(*) > 10\n",
    "\n",
    "# SQL version\n",
    "sql_13 = \"\"\"\n",
    "SELECT manufacturer, COUNT(*) AS count\n",
    "FROM planes\n",
    "WHERE seats > 200\n",
    "GROUP BY manufacturer\n",
    "HAVING COUNT(*) > 10\n",
    "\"\"\"\n",
    "result_sql_13 = pd.read_sql_query(sql_13, conn).sort_values(by=\"manufacturer\", ignore_index=True)\n",
    "\n",
    "# Pandas version\n",
    "filtered = df_planes[df_planes[\"seats\"] > 200]\n",
    "result_pd_13 = (\n",
    "    filtered.groupby(\"manufacturer\")\n",
    "    .size()\n",
    "    .reset_index(name=\"count\")\n",
    ")\n",
    "result_pd_13 = result_pd_13[result_pd_13[\"count\"] > 10].sort_values(by=\"manufacturer\", ignore_index=True)\n",
    "\n",
    "# Validation\n",
    "pd.testing.assert_frame_equal(result_sql_13, result_pd_13)\n",
    "print(\"✅ Task 13 passed: Manufacturers with large plane counts > 10 match.\")\n"
   ]
  },
  {
   "cell_type": "code",
   "execution_count": 30,
   "id": "cb2808fd-fd3d-46d7-a3b1-2382655bea27",
   "metadata": {},
   "outputs": [
    {
     "name": "stdout",
     "output_type": "stream",
     "text": [
      "✅ Task 14 passed: Top 10 manufacturers by count match.\n"
     ]
    }
   ],
   "source": [
    "# %%\n",
    "# Task 14: SELECT manufacturer, COUNT(*) AS howmany FROM planes GROUP BY manufacturer ORDER BY howmany DESC LIMIT 10\n",
    "\n",
    "# SQL version\n",
    "sql_14 = \"\"\"\n",
    "SELECT manufacturer, COUNT(*) AS howmany\n",
    "FROM planes\n",
    "GROUP BY manufacturer\n",
    "ORDER BY howmany DESC\n",
    "LIMIT 10\n",
    "\"\"\"\n",
    "result_sql_14 = pd.read_sql_query(sql_14, conn).sort_values(by=\"manufacturer\", ignore_index=True)\n",
    "\n",
    "# Pandas version\n",
    "result_pd_14 = (\n",
    "    df_planes.groupby(\"manufacturer\")\n",
    "    .size()\n",
    "    .reset_index(name=\"howmany\")\n",
    "    .sort_values(by=\"howmany\", ascending=False)\n",
    "    .head(10)\n",
    "    .sort_values(by=\"manufacturer\", ignore_index=True)\n",
    ")\n",
    "\n",
    "# Validation\n",
    "pd.testing.assert_frame_equal(result_sql_14, result_pd_14)\n",
    "print(\"✅ Task 14 passed: Top 10 manufacturers by count match.\")\n"
   ]
  },
  {
   "cell_type": "code",
   "execution_count": 32,
   "id": "d07dd660-2750-4502-be27-f71b21892b22",
   "metadata": {},
   "outputs": [
    {
     "name": "stdout",
     "output_type": "stream",
     "text": [
      "✅ Task 15 passed: LEFT JOIN with plane_year, plane_speed, plane_seats matches.\n"
     ]
    }
   ],
   "source": [
    "# %%\n",
    "# Task 15: LEFT JOIN flights with planes to add plane_year, plane_speed, and plane_seats\n",
    "\n",
    "# SQL version\n",
    "sql_15 = \"\"\"\n",
    "SELECT flights.*, \n",
    "       planes.year AS plane_year,\n",
    "       planes.speed AS plane_speed,\n",
    "       planes.seats AS plane_seats\n",
    "FROM flights\n",
    "LEFT JOIN planes ON flights.tailnum = planes.tailnum\n",
    "\"\"\"\n",
    "result_sql_15 = pd.read_sql_query(sql_15, conn).sort_values(by=\"flight\", ignore_index=True)\n",
    "\n",
    "# Reload base dataframes to avoid carryover issues\n",
    "df_flights = pd.read_sql_query(\"SELECT * FROM flights\", conn)\n",
    "df_planes = pd.read_sql_query(\"SELECT * FROM planes\", conn)\n",
    "\n",
    "# Avoid column conflict by renaming 'year' in planes before merge\n",
    "df_planes_renamed = df_planes.rename(columns={\n",
    "    \"year\": \"plane_year\",\n",
    "    \"speed\": \"plane_speed\",\n",
    "    \"seats\": \"plane_seats\"\n",
    "})\n",
    "\n",
    "# Merge\n",
    "result_pd_15 = pd.merge(df_flights, df_planes_renamed[[\"tailnum\", \"plane_year\", \"plane_speed\", \"plane_seats\"]],\n",
    "                        on=\"tailnum\", how=\"left\").sort_values(by=\"flight\", ignore_index=True)\n",
    "\n",
    "# Validation\n",
    "pd.testing.assert_frame_equal(result_sql_15, result_pd_15)\n",
    "print(\"✅ Task 15 passed: LEFT JOIN with plane_year, plane_speed, plane_seats matches.\")\n"
   ]
  },
  {
   "cell_type": "code",
   "execution_count": 39,
   "id": "2cd90894-22a1-44d7-b0ac-07480b2ecb83",
   "metadata": {},
   "outputs": [
    {
     "name": "stdout",
     "output_type": "stream",
     "text": [
      "✅ Task 16 passed: Combined carrier/tailnum with planes and airlines correctly.\n"
     ]
    }
   ],
   "source": [
    "# %%\n",
    "# Task 16: SELECT planes.*, airlines.* FROM\n",
    "# (SELECT DISTINCT carrier, tailnum FROM flights) AS cartail\n",
    "# INNER JOIN planes ON cartail.tailnum=planes.tailnum\n",
    "# INNER JOIN airlines ON cartail.carrier=airlines.carrier\n",
    "\n",
    "# SQL version\n",
    "sql_16 = \"\"\"\n",
    "SELECT planes.*, airlines.* FROM\n",
    "(SELECT DISTINCT carrier, tailnum FROM flights) AS cartail\n",
    "INNER JOIN planes ON cartail.tailnum = planes.tailnum\n",
    "INNER JOIN airlines ON cartail.carrier = airlines.carrier;\n",
    "\"\"\"\n",
    "result_sql_16 = pd.read_sql_query(sql_16, conn).sort_values(by=[\"tailnum\", \"carrier\"], ignore_index=True)\n",
    "\n",
    "# Pandas version\n",
    "cartail_df = df_flights[[\"carrier\", \"tailnum\"]].drop_duplicates()\n",
    "result_pd_16 = cartail_df.merge(df_planes, on=\"tailnum\", how=\"inner\")\n",
    "result_pd_16 = result_pd_16.merge(df_airlines, on=\"carrier\", how=\"inner\")\n",
    "result_pd_16 = result_pd_16[\n",
    "    [\"tailnum\", \"year\", \"type\", \"manufacturer\", \"model\",\n",
    "     \"engines\", \"seats\", \"speed\", \"engine\", \"carrier\", \"name\"]\n",
    "].sort_values(by=[\"tailnum\", \"carrier\"], ignore_index=True)\n",
    "\n",
    "# Validation\n",
    "pd.testing.assert_frame_equal(result_sql_16, result_pd_16, check_exact=False)\n",
    "print(\"✅ Task 16 passed: Combined carrier/tailnum with planes and airlines correctly.\")\n"
   ]
  },
  {
   "cell_type": "code",
   "execution_count": 43,
   "id": "45ab7757-5606-4703-adf3-447d7f38fed9",
   "metadata": {},
   "outputs": [
    {
     "name": "stdout",
     "output_type": "stream",
     "text": [
      "✅ Task 17 passed: Joined flights from EWR with daily weather averages.\n"
     ]
    }
   ],
   "source": [
    "# %%\n",
    "# Task 17: Joining Flights from EWR with Daily Avg Weather Data\n",
    "# Load required DataFrames from the database\n",
    "df_flights = pd.read_sql_query(\"SELECT * FROM flights\", conn)\n",
    "df_weather = pd.read_sql_query(\"SELECT * FROM weather\", conn)\n",
    "# SQL version\n",
    "sql_17 = \"\"\"\n",
    "SELECT\n",
    "    flights2.*,\n",
    "    atemp,\n",
    "    ahumid\n",
    "FROM (\n",
    "    SELECT * FROM flights WHERE origin='EWR'\n",
    ") AS flights2\n",
    "LEFT JOIN (\n",
    "    SELECT\n",
    "        year, month, day,\n",
    "        AVG(temp) AS atemp,\n",
    "        AVG(humid) AS ahumid\n",
    "    FROM weather\n",
    "    WHERE origin='EWR'\n",
    "    GROUP BY year, month, day\n",
    ") AS weather2\n",
    "ON flights2.year = weather2.year\n",
    "AND flights2.month = weather2.month\n",
    "AND flights2.day = weather2.day;\n",
    "\"\"\"\n",
    "result_sql_17 = pd.read_sql_query(sql_17, conn).sort_values(by=\"flight\", ignore_index=True)\n",
    "\n",
    "# Pandas version\n",
    "flights2 = df_flights[df_flights[\"origin\"] == \"EWR\"]\n",
    "weather2 = (\n",
    "    df_weather[df_weather[\"origin\"] == \"EWR\"]\n",
    "    .groupby([\"year\", \"month\", \"day\"], as_index=False)\n",
    "    .agg(atemp=(\"temp\", \"mean\"), ahumid=(\"humid\", \"mean\"))\n",
    ")\n",
    "\n",
    "result_pd_17 = (\n",
    "    flights2.merge(weather2, on=[\"year\", \"month\", \"day\"], how=\"left\")\n",
    "    .sort_values(by=\"flight\", ignore_index=True)\n",
    ")\n",
    "\n",
    "# Validation\n",
    "pd.testing.assert_frame_equal(result_sql_17, result_pd_17, check_exact=False)\n",
    "print(\"✅ Task 17 passed: Joined flights from EWR with daily weather averages.\")\n"
   ]
  },
  {
   "cell_type": "code",
   "execution_count": 44,
   "id": "373103c4-ed65-4264-a826-ea22dbfcd5b6",
   "metadata": {},
   "outputs": [],
   "source": [
    "# %% [markdown]\n",
    "# ## ✅ Final Summary – Task 1.6D: SQL vs Pandas Comparison\n",
    "#\n",
    "# In this task, I explored how to perform various data queries using both **SQL** and **pandas** on the `nycflights13` dataset.\n",
    "#\n",
    "# ### 📦 Dataset Tables Used:\n",
    "# - `flights`\n",
    "# - `planes`\n",
    "# - `airlines`\n",
    "# - `airports`\n",
    "# - `weather`\n",
    "#\n",
    "# ### 🔄 Methodology:\n",
    "# For each task:\n",
    "# 1. I wrote a SQL query to extract, group, filter, or join data.\n",
    "# 2. I implemented the **equivalent operation using pandas**.\n",
    "# 3. I used `pd.testing.assert_frame_equal()` to compare SQL and pandas results.\n",
    "# 4. In some complex joins (like Task 16), I adjusted for differences in how SQL and pandas treat duplicates to ensure accurate comparison.\n",
    "#\n",
    "# ### ✅ Tasks Completed:\n",
    "# - Task 1–16: Various SELECT, DISTINCT, GROUP BY, JOIN, ORDER BY, and HAVING queries\n",
    "# - Task 17 (Postgraduate-only): Joined flights from EWR with daily average weather conditions using a LEFT JOIN\n",
    "#\n",
    "# ### 🧠 What I Learned:\n",
    "# - How SQL and pandas can achieve the same result using different syntax and methods.\n",
    "# - How to work with **INNER JOINs**, **LEFT JOINs**, and **GROUP BY aggregations** in both SQL and pandas.\n",
    "# - How to use `assert_frame_equal()` for precise validation of results.\n",
    "# - How to troubleshoot mismatches caused by column order, data types, or float rounding.\n",
    "#\n",
    "# ✅ All SQL and pandas results were successfully matched.\n",
    "# This exercise helped me understand data manipulation in both languages, which is essential for real-world data analysis.\n"
   ]
  }
 ],
 "metadata": {
  "kernelspec": {
   "display_name": "Python (my_env)",
   "language": "python",
   "name": "my_env"
  },
  "language_info": {
   "codemirror_mode": {
    "name": "ipython",
    "version": 3
   },
   "file_extension": ".py",
   "mimetype": "text/x-python",
   "name": "python",
   "nbconvert_exporter": "python",
   "pygments_lexer": "ipython3",
   "version": "3.13.2"
  }
 },
 "nbformat": 4,
 "nbformat_minor": 5
}
